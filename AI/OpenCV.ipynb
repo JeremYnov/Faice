{
 "cells": [
  {
   "source": [
    "<h1>Imports</h1>\n",
    "<p>We need to import openCV to detect and crop the face with picture or webcam</p>"
   ],
   "cell_type": "markdown",
   "metadata": {}
  },
  {
   "cell_type": "code",
   "execution_count": 1,
   "metadata": {},
   "outputs": [
    {
     "output_type": "error",
     "ename": "ModuleNotFoundError",
     "evalue": "No module named 'cv2'",
     "traceback": [
      "\u001b[1;31m---------------------------------------------------------------------------\u001b[0m",
      "\u001b[1;31mModuleNotFoundError\u001b[0m                       Traceback (most recent call last)",
      "\u001b[1;32m<ipython-input-1-c8ec22b3e787>\u001b[0m in \u001b[0;36m<module>\u001b[1;34m\u001b[0m\n\u001b[1;32m----> 1\u001b[1;33m \u001b[1;32mimport\u001b[0m \u001b[0mcv2\u001b[0m\u001b[1;33m\u001b[0m\u001b[1;33m\u001b[0m\u001b[0m\n\u001b[0m",
      "\u001b[1;31mModuleNotFoundError\u001b[0m: No module named 'cv2'"
     ]
    }
   ],
   "source": [
    "import cv2"
   ]
  },
  {
   "source": [
    "<h1>AI Training and capture of video flow</h1>\n",
    "<ul>\n",
    "    <li>First of all we need to train our AI for detecting visage and crop them.</li>\n",
    "    <li>After this step we capture the video flow</li>\n",
    "</ul>"
   ],
   "cell_type": "markdown",
   "metadata": {}
  },
  {
   "cell_type": "code",
   "execution_count": null,
   "metadata": {},
   "outputs": [],
   "source": [
    "face_cascade = cv2.CascadeClassifier('haarcascade_frontalface_default.xml')\n",
    "\n",
    "# Capture from webcam \n",
    "cap = cv2.VideoCapture(0)\n",
    "\n",
    "# Capture from picture or video file \n",
    "#cap = cv2.VideoCapture('filename.mp4')"
   ]
  },
  {
   "source": [
    "<h1>Visage detection</h1>\n",
    "<h3>A quick explanation :</h3>\n",
    "<p>First, we read the frame capture in cap variable, after we convert img in grayscale.<br>\n",
    "Second, we detect all faces on our video or picture <br>\n",
    "After this we can draw rectangle arround each detected face<br>\n",
    "And finally we display the faces stocked </p>"
   ],
   "cell_type": "markdown",
   "metadata": {}
  },
  {
   "cell_type": "code",
   "execution_count": null,
   "metadata": {},
   "outputs": [],
   "source": [
    "while True:\n",
    "    # Read the frame\n",
    "    img = cap.read()\n",
    "\n",
    "    # Convert to grayscale\n",
    "    gray = cv2.cvtColor(img, cv2.COLOR_BGR2GRAY)\n",
    "\n",
    "    # Detect the faces\n",
    "    faces = face_cascade.detectMultiscale(gray, 1.1, 4)\n",
    "\n",
    "    # Draw an rectancle arround each face\n",
    "    for (x, y, w, h) in faces:\n",
    "        cv2.rectangle(img, (x, y), (x+w, y+h), (255, 255, 0), 2)\n",
    "    \n",
    "    # Display \n",
    "    cv2.imshow('img', img)\n",
    "\n",
    "    #Stop script if escape key is pressed \n",
    "    k = cv2.waitKey(30) & 0xff\n",
    "    if k == 27:\n",
    "        break"
   ]
  }
 ],
 "metadata": {
  "kernelspec": {
   "name": "python3",
   "display_name": "Python 3.8.3 64-bit ('venv')",
   "metadata": {
    "interpreter": {
     "hash": "d3259331a73204e8435feec00421330e1f63d2df065f8fab8d27759d18e1a48c"
    }
   }
  }
 },
 "nbformat": 4,
 "nbformat_minor": 4
}