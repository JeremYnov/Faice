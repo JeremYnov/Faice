{
 "cells": [
  {
   "source": [
    "<h1>Imports</h1>\n",
    "<p>We need to import openCV to detect and crop the face with picture or webcam</p>"
   ],
   "cell_type": "markdown",
   "metadata": {}
  },
  {
   "cell_type": "code",
   "execution_count": null,
   "metadata": {},
   "outputs": [],
   "source": [
    "import cv2"
   ]
  },
  {
   "source": [
    "<h1>AI Training and capture of video flow</h1>\n",
    "<ul>\n",
    "    <li>First of all we need to train our AI for detecting visage and crop them.</li>\n",
    "    <li>After this step we capture the video flow</li>\n",
    "</ul>"
   ],
   "cell_type": "markdown",
   "metadata": {}
  },
  {
   "cell_type": "code",
   "execution_count": null,
   "metadata": {},
   "outputs": [],
   "source": [
    "face_cascade = cv2.CascadeClassifier('haarcascade_frontalface_default.xml')\n",
    "\n",
    "# Capture from webcam \n",
    "cap = cv2.VideoCapture(0)\n",
    "\n",
    "# Capture from picture or video file \n",
    "#cap = cv2.VideoCapture('filename.mp4')"
   ]
  },
  {
   "source": [
    "<h1>Visage detection</h1>\n",
    "<h3>A quick explanation :</h3>\n",
    "<p>First, we read the frame capture in cap variable, after we convert img in grayscale.<br>\n",
    "Second, we detect all faces on our video or picture <br>\n",
    "After this we can draw rectangle arround each detected face<br>\n",
    "And finally we display the faces stocked </p>"
   ],
   "cell_type": "markdown",
   "metadata": {}
  },
  {
   "cell_type": "code",
   "execution_count": null,
   "metadata": {},
   "outputs": [],
   "source": [
    "while True:\n",
    "    # Read the frame\n",
    "    img = cap.read()\n",
    "\n",
    "    # Convert to grayscale\n",
    "    gray = cv2.cvtColor(img, cv2.COLOR_BGR2GRAY)\n",
    "\n",
    "    # Detect the faces\n",
    "    faces = face_cascade.detectMultiscale(gray, 1.1, 4)\n",
    "\n",
    "    # Draw an rectancle arround each face\n",
    "    for (x, y, w, h) in faces:\n",
    "        cv2.rectangle(img, (x, y), (x+w, y+h), (255, 255, 0), 2)\n",
    "    \n",
    "    # Display \n",
    "    cv2.imshow('img', img)\n",
    "\n",
    "    #Stop script if escape key is pressed \n",
    "    k = cv2.waitKey(30) & 0xff\n",
    "    if k == 27:\n",
    "        break"
   ]
  }
 ],
 "metadata": {
  "kernelspec": {
   "name": "python3",
   "display_name": "Python 3.8.5 64-bit (conda)",
   "metadata": {
    "interpreter": {
     "hash": "02a0c6162ddc4475bfc31d737ba4bdb006baa0d33e2535933c3735607ff60976"
    }
   }
  }
 },
 "nbformat": 4,
 "nbformat_minor": 4
}